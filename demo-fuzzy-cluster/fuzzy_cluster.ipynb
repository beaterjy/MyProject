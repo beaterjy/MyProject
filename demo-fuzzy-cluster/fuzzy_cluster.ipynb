{
 "cells": [
  {
   "cell_type": "markdown",
   "metadata": {},
   "source": [
    "# 模糊聚类分析在红酒数据集的运用"
   ]
  },
  {
   "cell_type": "markdown",
   "metadata": {},
   "source": [
    "对于实验的说明：\n",
    "\n",
    "实验步骤：\n",
    "\n",
    "    1. 导入数据\n",
    "    2. 评价标准\n",
    "    3. 数据规格化\n",
    "    4. 构造模糊相似矩阵\n",
    "    5. 构造模糊等价矩阵\n",
    "    6. 聚类 -- 调整lambda-截值"
   ]
  },
  {
   "cell_type": "markdown",
   "metadata": {},
   "source": [
    "## 1. 导入数据"
   ]
  },
  {
   "cell_type": "code",
   "execution_count": 201,
   "metadata": {},
   "outputs": [],
   "source": [
    "import numpy as np\n",
    "import pandas as pd\n",
    "from sklearn.datasets import load_wine"
   ]
  },
  {
   "cell_type": "code",
   "execution_count": 202,
   "metadata": {},
   "outputs": [],
   "source": [
    "wine = load_wine()"
   ]
  },
  {
   "cell_type": "code",
   "execution_count": 203,
   "metadata": {},
   "outputs": [
    {
     "data": {
      "text/plain": [
       "dict_keys(['data', 'target', 'target_names', 'DESCR', 'feature_names'])"
      ]
     },
     "execution_count": 203,
     "metadata": {},
     "output_type": "execute_result"
    }
   ],
   "source": [
    "wine.keys()"
   ]
  },
  {
   "cell_type": "code",
   "execution_count": 204,
   "metadata": {},
   "outputs": [
    {
     "name": "stdout",
     "output_type": "stream",
     "text": [
      "shape (178, 13)\n"
     ]
    }
   ],
   "source": [
    "X = wine.data\n",
    "y = wine.target\n",
    "\n",
    "print('shape', X.shape)"
   ]
  },
  {
   "cell_type": "markdown",
   "metadata": {},
   "source": [
    "### * 实验使用10%数据展示"
   ]
  },
  {
   "cell_type": "code",
   "execution_count": 205,
   "metadata": {},
   "outputs": [],
   "source": [
    "from sklearn.model_selection import train_test_split"
   ]
  },
  {
   "cell_type": "code",
   "execution_count": 206,
   "metadata": {},
   "outputs": [
    {
     "name": "stdout",
     "output_type": "stream",
     "text": [
      "X_train shape (10, 13)\n",
      "y_train shape (10,)\n"
     ]
    }
   ],
   "source": [
    "X_train, X_test, y_train, y_test = train_test_split(X, y, test_size=0.94, random_state=1)\n",
    "print('X_train shape', X_train.shape)\n",
    "print('y_train shape', y_train.shape)"
   ]
  },
  {
   "cell_type": "code",
   "execution_count": 240,
   "metadata": {},
   "outputs": [],
   "source": [
    "feature_name = ['酒精','苹果酸','灰','灰的碱性','镁','总酚','类黄酮','非黄烷类酚类','花青素','颜色强度','色调','od280/od315稀释葡萄酒','脯氨酸']\n",
    "# pd.DataFrame(X_train, columns=feature_name).to_excel('wine-train.xlsx')\n",
    "# pd.DataFrame(y_train).to_excel('wine-result.xlsx')"
   ]
  },
  {
   "cell_type": "markdown",
   "metadata": {},
   "source": [
    "## 2. 评价标准"
   ]
  },
  {
   "cell_type": "markdown",
   "metadata": {},
   "source": [
    "因为红酒数据有13个特征，每个特征代表一种成分，因此使用13个特征来评价每一瓶红酒"
   ]
  },
  {
   "cell_type": "markdown",
   "metadata": {},
   "source": [
    "## 3. 数据规格化"
   ]
  },
  {
   "cell_type": "markdown",
   "metadata": {},
   "source": [
    "去量钢化，对数据进行标准化处理"
   ]
  },
  {
   "cell_type": "code",
   "execution_count": 207,
   "metadata": {},
   "outputs": [],
   "source": [
    "from sklearn.preprocessing import MinMaxScaler"
   ]
  },
  {
   "cell_type": "code",
   "execution_count": 208,
   "metadata": {},
   "outputs": [],
   "source": [
    "# 归一化处理\n",
    "X_01 = MinMaxScaler().fit_transform(X_train)"
   ]
  },
  {
   "cell_type": "code",
   "execution_count": 241,
   "metadata": {},
   "outputs": [],
   "source": [
    "# pd.DataFrame(X_01, columns=feature_name).to_excel('wine-train_01.xlsx')"
   ]
  },
  {
   "cell_type": "markdown",
   "metadata": {},
   "source": [
    "## 4. 构造模糊相似矩阵"
   ]
  },
  {
   "cell_type": "markdown",
   "metadata": {},
   "source": [
    "准备使用的方式：\n",
    "\n",
    "    1. 余弦相似度法\n",
    "    2. 相关系数法"
   ]
  },
  {
   "cell_type": "code",
   "execution_count": 209,
   "metadata": {},
   "outputs": [],
   "source": [
    "# 余弦相似度法\n",
    "from sklearn.metrics.pairwise import cosine_similarity"
   ]
  },
  {
   "cell_type": "code",
   "execution_count": 210,
   "metadata": {},
   "outputs": [
    {
     "name": "stdout",
     "output_type": "stream",
     "text": [
      "matrix_cos shape (10, 10)\n",
      "less than 0: 0\n"
     ]
    }
   ],
   "source": [
    "matrix_cos = cosine_similarity(X_01)\n",
    "print('matrix_cos shape', matrix_cos.shape)\n",
    "print('less than 0:', np.sum(matrix_cos < 0))"
   ]
  },
  {
   "cell_type": "code",
   "execution_count": 243,
   "metadata": {},
   "outputs": [],
   "source": [
    "# pd.DataFrame(matrix_cos, columns=range(10)).to_excel('matrix_cos.xlsx')"
   ]
  },
  {
   "cell_type": "code",
   "execution_count": 211,
   "metadata": {},
   "outputs": [],
   "source": [
    "# 相关系数法\n",
    "# TODO："
   ]
  },
  {
   "cell_type": "markdown",
   "metadata": {},
   "source": [
    "## 5. 构造模糊等价矩阵"
   ]
  },
  {
   "cell_type": "markdown",
   "metadata": {},
   "source": [
    "使用R2 = compound(R, R),\n",
    "\n",
    "    如果R2 == R，则R为模糊等价矩阵\n",
    "    \n",
    "    如果R2 != R, 则继续计算R4，R8..."
   ]
  },
  {
   "cell_type": "code",
   "execution_count": 212,
   "metadata": {},
   "outputs": [],
   "source": [
    "def compound(r):\n",
    "    \"\"\"定义合成运算, 返回r2\"\"\"\n",
    "    r2 = np.ones_like(r)\n",
    "    n = len(r)\n",
    "    for i in range(n-1):\n",
    "        for j in range(i+1, n):\n",
    "            u, v = r[i,:], r[:,j]\n",
    "            \n",
    "            # 取小取大\n",
    "            tmp = np.zeros_like(u)\n",
    "            for idx in range(len(u)):\n",
    "                tmp[idx] = min(u[idx], v[idx])\n",
    "            r2[i,j] = np.max(tmp)\n",
    "            r2[j,i] = r2[i,j]\n",
    "    return r2         \n",
    "\n",
    "def is_equal(r, _r):\n",
    "    \"\"\"判断两个矩阵是否相等\"\"\"\n",
    "    return (r == _r).all()\n",
    "\n",
    "def get_equal_matrix(r):\n",
    "    \"\"\"用模糊相似矩阵构建模糊等价矩阵\"\"\"\n",
    "    while True:\n",
    "        new_r = compound(r)\n",
    "        if is_equal(r, new_r):\n",
    "            break\n",
    "        else:\n",
    "            r = new_r\n",
    "    return r.copy()"
   ]
  },
  {
   "cell_type": "code",
   "execution_count": 213,
   "metadata": {},
   "outputs": [],
   "source": [
    "# r = [[1.0, 0.4, 0.7, 0.0, 0.9],\n",
    "#     [0.4, 1.0, 0.8, 0.0, 0.0],\n",
    "#     [0.7, 0.8, 1.0, 0.6, 0.0],\n",
    "#     [0.0, 0.0, 0.6, 1.0, 0.0],\n",
    "#     [0.9, 0.0, 0.0, 0.0, 1.0]]\n",
    "# r = np.array(r)\n",
    "\n",
    "\n",
    "# 构建模糊等价矩阵\n",
    "matrix_equal = get_equal_matrix(matrix_cos)"
   ]
  },
  {
   "cell_type": "code",
   "execution_count": 244,
   "metadata": {},
   "outputs": [],
   "source": [
    "# pd.DataFrame(matrix_equal, columns=range(10)).to_excel('matrix_equal.xlsx')"
   ]
  },
  {
   "cell_type": "markdown",
   "metadata": {},
   "source": [
    "## 6. 聚类 -- 调整lambda-截值"
   ]
  },
  {
   "cell_type": "code",
   "execution_count": 214,
   "metadata": {},
   "outputs": [],
   "source": [
    "# 根据模糊等价矩阵获得所有的lambda截值\n",
    "lmd_vals = sorted(list(set(matrix_equal.ravel().tolist())))"
   ]
  },
  {
   "cell_type": "code",
   "execution_count": 249,
   "metadata": {},
   "outputs": [
    {
     "name": "stdout",
     "output_type": "stream",
     "text": [
      "(0, 0.6356017260014928)\n",
      "(1, 0.7532866532215748)\n",
      "(2, 0.7822094376522073)\n",
      "(3, 0.7863244705649027)\n",
      "(4, 0.8002796327226721)\n",
      "(5, 0.881413375016439)\n",
      "(6, 0.8853555412247797)\n",
      "(7, 0.8894221554251438)\n",
      "(8, 0.8909947890888853)\n",
      "(9, 1.0)\n"
     ]
    }
   ],
   "source": [
    "for item in zip(range(10), lmd_vals):\n",
    "    print(item)\n",
    "    \n"
   ]
  },
  {
   "cell_type": "code",
   "execution_count": 225,
   "metadata": {},
   "outputs": [],
   "source": [
    "def classify(matrix, threshold):\n",
    "    \"\"\"基于阈值对matrix进行分类\"\"\"\n",
    "    X = matrix >= threshold\n",
    "    \n",
    "    res = np.zeros(len(matrix)).astype(np.int32)\n",
    "    label = 0\n",
    "    for r in range(1, len(matrix)):\n",
    "        for i in range(0, r):\n",
    "            if (X[r, :] == X[i, :]).all():\n",
    "                res[r] = res[i]\n",
    "                break\n",
    "        else:\n",
    "            label += 1\n",
    "            res[r] = label\n",
    "    return res"
   ]
  },
  {
   "cell_type": "code",
   "execution_count": 254,
   "metadata": {},
   "outputs": [
    {
     "name": "stdout",
     "output_type": "stream",
     "text": [
      "聚类结果\t原来分类\n",
      "0\t\t2\n",
      "1\t\t1\n",
      "1\t\t1\n",
      "2\t\t2\n",
      "1\t\t1\n",
      "2\t\t2\n",
      "1\t\t2\n",
      "1\t\t1\n",
      "1\t\t2\n",
      "1\t\t0\n"
     ]
    }
   ],
   "source": [
    "# print('聚类结果\\t原来分类')\n",
    "# for item in zip(classify(matrix_equal, lmd_vals[2]), y_train):\n",
    "#     print('%s\\t\\t%s' % (item[0], item[1]))"
   ]
  },
  {
   "cell_type": "code",
   "execution_count": null,
   "metadata": {},
   "outputs": [],
   "source": []
  }
 ],
 "metadata": {
  "kernelspec": {
   "display_name": "Python 3",
   "language": "python",
   "name": "python3"
  },
  "language_info": {
   "codemirror_mode": {
    "name": "ipython",
    "version": 3
   },
   "file_extension": ".py",
   "mimetype": "text/x-python",
   "name": "python",
   "nbconvert_exporter": "python",
   "pygments_lexer": "ipython3",
   "version": "3.7.4"
  }
 },
 "nbformat": 4,
 "nbformat_minor": 4
}
